{
 "cells": [
  {
   "cell_type": "code",
   "execution_count": null,
   "metadata": {},
   "outputs": [],
   "source": [
    "#ch11 3번문제\n",
    "\n",
    "from tkinter import *\n",
    "alp = {} # 알파벳과 횟수를 저장할 딕셔너리를 만들어줍니다.\n",
    "inFileName = \"HumptyDumpty.txt\"\n",
    "inFile = open(inFileName, \"r\") #입력해준 파일을 불러오고, 읽기모드로 설정합니다.\n",
    "rFile = inFile.read() #불러온 파일을 rFile에 저장해주고\n",
    "inFile.close() # 불러온 파일을 닫아줍니다.\n",
    "\n",
    "# 반복문을 통해 딕셔너리에 문자별 빈도수를 저장해줍니다.\n",
    "for line in rFile:\n",
    "    for ch in line:\n",
    "        if ch in alp:\n",
    "            alp[ch] = alp[ch] + 1\n",
    "        else:\n",
    "            alp[ch] = 1\n",
    "print(alp)"
   ]
  },
  {
   "cell_type": "code",
   "execution_count": null,
   "metadata": {},
   "outputs": [],
   "source": [
    "#ch11 5번문제\n",
    "\n",
    "from tkinter import *\n",
    "\n",
    "file = \"numbers.txt\" \n",
    "inFile = open(file, \"r\") #file 변수에 저장된 텍스트문서를 읽기모드로 열어줍니다.\n",
    "rFile = inFile.readlines() # 텍스트문서에 있는 각 줄들을 모두 rFile에 저장\n",
    "inFile.close()\n",
    "\n",
    "file = \"output.txt\"\n",
    "outFile = open(file,\"w\") # 저장할 파일을 쓰기모드로 열어줍니다.\n",
    "\n",
    "total = 0.0\n",
    "avg = 0.0\n",
    "count = 0\n",
    "\n",
    "# 반복을 통해 합계와 값들의 개수를 구하고 평균을 구해줍니다.\n",
    "for s in rFile:\n",
    "    total = total + float(s)\n",
    "    count = count + 1\n",
    "avg = total / count\n",
    "\n",
    "# output.txt 파일에 계산한 값들을 넣어줍니다.\n",
    "print(\"합계 = %.1f\" %total, file = outFile, end =\"\\n\")\n",
    "print(\"평균 = %.1f\" %avg, file = outFile, end =\"\")\n",
    "\n",
    "outFile.close()"
   ]
  },
  {
   "cell_type": "code",
   "execution_count": 1,
   "metadata": {},
   "outputs": [
    {
     "name": "stdout",
     "output_type": "stream",
     "text": [
      "반지름: 100 원의 면적: 628.0 원의 둘레: 31400.0\n"
     ]
    }
   ],
   "source": [
    "#ch13 1번문제\n",
    "\n",
    "class Circle:\n",
    "    def __init__(self, radius): # 클래스의 변수를 바인딩 해줍니다.\n",
    "        self.radius = radius\n",
    "    def calcPerimeter(self): # 원의 둘레를 계산하는 메소드를 만들어줍니다.\n",
    "        self.perimeter = 3.14 * 2 * self.radius\n",
    "    def calcArea(self): # 원의 면적을 계산하는 메소드를 만들어줍니다.\n",
    "        self.area = 3.14 * self.radius**2\n",
    "    def __str__(self): # circle을 호출하면 아래와같이 출력되는 함수를 선언합니다.\n",
    "        msg = \"반지름: \"+str(self.radius) +\" 원의 면적: \"+str(self.perimeter) +\" 원의 둘레: \"+str(self.area)\n",
    "        return msg\n",
    "\n",
    "# 아래와 같이 반지름값을 100을 넣어서 호출해주고 출력해줍니다.\n",
    "nCircle = Circle(100)\n",
    "nCircle.calcPerimeter()\n",
    "nCircle.calcArea()\n",
    "print(nCircle)"
   ]
  },
  {
   "cell_type": "code",
   "execution_count": null,
   "metadata": {},
   "outputs": [],
   "source": [
    "#ch13 4번문제\n",
    "\n",
    "from turtle import *\n",
    "\n",
    "class MyTurtle(Turtle): # Turtle 클래스를 상속 받습니다.\n",
    "    def drawSquare(self): # 사각형을 그리는 함수를 선언해줍니다.\n",
    "        for i in range(4):\n",
    "            self.right(90)\n",
    "            self.forward(100)\n",
    "\n",
    "my_turtle = MyTurtle()\n",
    "my_turtle.forward(100)\n",
    "my_turtle.drawSquare()"
   ]
  },
  {
   "cell_type": "code",
   "execution_count": null,
   "metadata": {},
   "outputs": [],
   "source": [
    "# 숙제로 작성한 파이선 프로그램 중 하나를 github에 업로드하는 과정을 설명하시오."
   ]
  }
 ],
 "metadata": {
  "kernelspec": {
   "display_name": "Python 3",
   "language": "python",
   "name": "python3"
  },
  "language_info": {
   "codemirror_mode": {
    "name": "ipython",
    "version": 3
   },
   "file_extension": ".py",
   "mimetype": "text/x-python",
   "name": "python",
   "nbconvert_exporter": "python",
   "pygments_lexer": "ipython3",
   "version": "3.7.6"
  }
 },
 "nbformat": 4,
 "nbformat_minor": 4
}
